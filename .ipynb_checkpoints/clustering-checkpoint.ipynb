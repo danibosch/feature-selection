{
 "cells": [
  {
   "cell_type": "code",
   "execution_count": 2,
   "metadata": {
    "collapsed": true
   },
   "outputs": [],
   "source": [
    "%matplotlib inline\n",
    "import matplotlib.pyplot as plt\n",
    "import pandas as pd\n",
    "import numpy as np\n",
    "import spacy\n",
    "import pickle\n",
    "import nltk\n",
    "import os\n",
    "import sklearn.manifold\n",
    "from collections import Counter\n",
    "from nltk.cluster import kmeans, cosine_distance"
   ]
  },
  {
   "cell_type": "code",
   "execution_count": 3,
   "metadata": {},
   "outputs": [],
   "source": [
    "nlp = spacy.load('es', vectors=False, entity=False)"
   ]
  },
  {
   "cell_type": "code",
   "execution_count": 4,
   "metadata": {
    "collapsed": true,
    "scrolled": true
   },
   "outputs": [],
   "source": [
    "filename = \"lavoztextodump.txt\"\n",
    "text_file = open(filename, \"r\")\n",
    "dataset = text_file.read()\n",
    "text_file.close()"
   ]
  },
  {
   "cell_type": "code",
   "execution_count": 5,
   "metadata": {
    "collapsed": true
   },
   "outputs": [],
   "source": [
    "doc = nlp(dataset)"
   ]
  },
  {
   "cell_type": "code",
   "execution_count": 6,
   "metadata": {
    "scrolled": true
   },
   "outputs": [
    {
     "name": "stdout",
     "output_type": "stream",
     "text": [
      "Counter({'de': 212, 'la': 140, 'que': 129, 'el': 104, 'y': 98, 'en': 95, 'a': 77, 'los': 68, 'se': 53, 'las': 43, 'es': 40, 'un': 32, 'no': 32, 'una': 31, 'por': 28, 'del': 28, 'para': 26, 'con': 25, 'más': 20, 'años': 19, 'lo': 19, 'me': 16, 'su': 13, 'cuando': 13, 'como': 13, 'uno': 12, 'o': 12, 'son': 11, 'hay': 11, 'pero': 11, 'nos': 11, 'maría': 10, 'entre': 10, 'estancias': 10, 'al': 10, 'educación': 9, 'este': 8, 'jesús': 8, 'año': 8, 'todo': 8, 'otro': 8, 'han': 8, 'también': 7, 'día': 7, 'pedro': 7, 'dos': 7, 'tiempo': 7, 'ya': 7, 'siempre': 6, 'cuatro': 6, 'sitios': 6, 'está': 6, 'unesco': 6, 'vida': 6, 'tan': 6, 'córdoba': 6, 'veces': 6, 'cinco': 6, 'sólo': 6, 'hasta': 6, 'porque': 5, 'algunos': 5, 'tiene': 5, 'patrimonio': 5, 'gusta': 5, 'menos': 5, 'caroya': 5, 'le': 5, 'mejor': 5, 'asegura': 5, 'desde': 5, 'después': 5, 'gracia': 5, 'qué': 5, 'alta': 5, 'ser': 5, 'había': 5, 'dice': 5, 'casa': 5, 'mary': 5, 'provincia': 5, 'hace': 5, 'además': 4, 'jesuítico': 4, 'estar': 4, 'personas': 4, 'daniel': 4, 'cosas': 4, 'pasión': 4, 'estos': 4, 'censo': 4, 'contra': 4, 'están': 4, 'casados': 4, 'sobre': 4, 'censistas': 4, 'común': 4, 'obras': 4, 'provincial': 4, 'circuito': 4, 'proyecto': 4, 'pasado': 4, 'tres': 4, 'jesuíticas': 4, 'miércoles': 4, 'sus': 4, 'cada': 4, 'interpretación': 4, 'refugio': 4, 'cantidad': 4, 'hoy': 4, 'conflicto': 4, 'hogares': 4, 'mil': 4, 'aunque': 4, 'eso': 4, 'toma': 4, 'fueron': 4, 'antes': 4, 'trabajo': 4, 'si': 4, 'sin': 4, 'somos': 4, 'amor': 4, 'edad': 4, 'fue': 4, 'ahora': 4, 'visitantes': 4, 'acuerdo': 4, 'humanidad': 3, 'jefe': 3, 'mujeres': 3, 'nuevos': 3, 'mi': 3, 'edificios': 3, 'reclamo': 3, 'todos': 3, 'ley': 3, 'país': 3, 'planes': 3, 'ampliado': 3, 'escolares': 3, 'estructura': 3, 'estado': 3, 'ingresos': 3, 'capital': 3, 'forma': 3, 'esa': 3, 'problema': 3, 'zona': 3, 'general': 3, 'jóvenes': 3, 'camino': 3, 'forraje': 3, 'esas': 3, 'mejoras': 3, 'santa': 3, 'juntos': 3, 'cuestión': 3, 'sino': 3, 'mal': 3, 'hacienda': 3, 'mujer': 3, 'lado': 3, 'catalina': 3, 'operativo': 3, 'vejez': 3, 'ciento': 3, 'ese': 3, 'colonia': 3, 'clara': 3, 'estadísticas': 3, 'ipem': 3, 'tomas': 3, 'vez': 3, 'llevan': 3, 'medio': 3, 'ni': 3, 'canales': 3, 'nuestro': 3, 'les': 3, 'hermosa': 3, 'cuestionario': 3, 'así': 3, 'datos': 3, 'pareja': 3, 'durante': 3, 'chicas': 3, 'villa': 3, 'muy': 3, 'según': 3, 'consejo': 3, 'largo': 3, 'internacional': 3, 'mantener': 3, 'momento': 3, 'tu': 3, 'departamento': 2, 'duda': 2, 'solo': 2, 'monumentos': 2, 'apuntó': 2, 'candelaria': 2, 'mayores': 2, 'nacional': 2, 'pensar': 2, 'miel': 2, 'barrio': 2, 'cambio': 2, 'muestran': 2, 'inglés': 2, 'yerom': 2, 'secundarios': 2, 'incluye': 2, 'hablar': 2, 'alegre': 2, 'argentina': 2, 'persona': 2, 'otros': 2, 'turistas': 2, 'hacer': 2, 'movimiento': 2, 'exterior': 2, 'dejo': 2, 'unidos': 2, 'parecen': 2, 'nación': 2, 'básico': 2, 'estudiantil': 2, 'hijos': 2, 'matrimonio': 2, 'misma': 2, 'habitantes': 2, 'pertenece': 2, 'estamos': 2, 'pasar': 2, 'lenarduzzi': 2, 'sido': 2, 'museo': 2, 'primera': 2, 'nosotros': 2, 'grupo': 2, 'ciudadanía': 2, 'registraban': 2, 'jesuítica': 2, 'diferentes': 2, 'parejas': 2, 'ciudades': 2, 'vivimos': 2, 'tierra': 2, 'lleva': 2, 'recibir': 2, 'museos': 2, 'manzana': 2, 'cragnolini': 2, 'justo': 2, 'salvo': 2, 'jefes': 2, 'convivencia': 2, 'madre': 2, 'caso': 2, 'hecho': 2, 'comenta': 2, 'mañana': 2, 'donde': 2, 'población': 2, 'discursos': 2, 'cambiar': 2, 'escuelas': 2, 'martínez': 2, 'reciben': 2, 'toda': 2, 'viernes': 2, 'cuestiones': 2, 'recuperación': 2, 'ministerio': 2, 'plaza': 2, 'sitio': 2, 'unos': 2, 'participación': 2, 'comenzarán': 2, 'ella': 2, 'motivo': 2, 'conocieron': 2, 'sábado': 2, 'tenido': 2, 'secreto': 2, 'continuar': 2, 'chicos': 2, 'plantas': 2, 'colegios': 2, 'novios': 2, 'luna': 2, 'e': 2, 'vamos': 2, 'integrada': 2, 'atrás': 2, 'completo': 2, 'nada': 2, 'mucho': 2, 'disminuyen': 2, 'museológicos': 2, 'mundial': 2, 'ciudadanos': 2, 'pendiente': 2, 'situaciones': 2, 'carbó': 2, 'comenzaron': 2, 'allí': 2, 'puede': 2, 'eje': 2, 'plazo': 2, 'cruz': 2, 'relevamiento': 2, 'número': 2, 'tienen': 2, 'deban': 2, 'ver': 2, 'cuenta': 2, 'modo': 2, 'imaginan': 2, 'hijas': 2, 'extranjeros': 2, 'importante': 2, 'nunca': 2, 'argumentos': 2, 'predio': 2, 'hogar': 2, 'construyó': 2, 'dio': 2, 'otras': 2, 'comunicación': 2, 'producción': 2, 'nuestras': 2, 'quebracho': 2, 'instructores': 2, 'ha': 2, 'radio': 2, 'familia': 2, 'octubre': 2, 'feliz': 2, 'cree': 2, 'declaración': 2, 'conjunto': 2, 'sostiene': 2, 'objetivos': 2, 'poco': 2, 'grandes': 2, 'días': 2, 'tener': 2, 'espacio': 2, 'propietarios': 2, 'pasó': 2, 'ex': 2, 'blanco': 2, 'sucedió': 2, 'olga': 2, 'esta': 2, 'tenemos': 2, 'coordinadora': 2, 'cacho': 2, 'docentes': 2, 'grande': 2, 'embargo': 2, 'capacitación': 2, 'pedir': 2, 'te': 2, 'casi': 2, 'b': 2, 'logrado': 2, 'primeros': 2, 'recién': 2, 'muchas': 2, 'marido': 1, 'especializada': 1, 'aglutina': 1, 'deán': 1, 'cerca': 1, 'deja': 1, 'revisión': 1, 'baja': 1, 'conectarse': 1, 'leyenda': 1, 'murió': 1, 'haberse': 1, 'alejandro': 1, 'esgrimidos': 1, 'conjugado': 1, 'irrumpan': 1, 'acción': 1, 'reina': 1, 'histórico': 1, 'profe': 1, 'amena': 1, 'luego': 1, 'admiten': 1, 'lanzamiento': 1, 'sencilla': 1, 'pudo': 1, 'comprar': 1, 'real': 1, 'guiones': 1, 'empleada': 1, 'casos': 1, 'iglesia': 1, 'conocidas': 1, 'cierto': 1, 'martes': 1, 'elige': 1, 'cumplir': 1, 'restauración': 1, 'demoras': 1, 'aislada': 1, 'justifican': 1, 'auxiliar': 1, 'ciertamente': 1, 'hombre': 1, 'campo': 1, 'acompañó': 1, 'empezado': 1, 've': 1, 'tajamar': 1, 'especie': 1, 'misteriosos': 1, 'duración': 1, 'honesto': 1, 'separados': 1, 'suscribieron': 1, 'tratar': 1, 'preguntó': 1, 'desastre': 1, 'buena': 1, 'salir': 1, 'frecuente': 1, 'rareza': 1, 'museológico': 1, 'adriana': 1, 'homosexuales': 1, 'manifiesto': 1, 'kilómetros': 1, 'bombones': 1, 'hectáreas': 1, 'mediano': 1, 'luchar': 1, 'ente': 1, 'agregan': 1, 'actualidad': 1, 'buenas': 1, 'aceptar': 1, 'relativa': 1, 'horas': 1, 'refacciones': 1, 'memoria': 1, 'juvenil': 1, 'seguiremos': 1, 'comprometamos': 1, 'mucha': 1, 'refleja': 1, 'inseguridad': 1, 'posiblemente': 1, 'reformas': 1, 'emprendedora': 1, 'jurisdicciones': 1, 'fin': 1, 'connery': 1, 'entel': 1, 'sepan': 1, 'asesores': 1, 'cómo': 1, 'vender': 1, 'reclamos': 1, 'subjetiva': 1, 'calidad': 1, 'amigos': 1, 'estas': 1, 'conti': 1, 'defensa': 1, 'corresponden': 1, 'luis': 1, 'gestión': 1, 'duran': 1, 'alguna': 1, 'prepara': 1, 'energía': 1, 'década': 1, 'mozalbete': 1, 'tren': 1, 'facultad': 1, 'prioridad': 1, 'circunstancias': 1, 'errores': 1, 'originarios': 1, 'coordinado': 1, 'fe': 1, 'vaticinio': 1, 'áreas': 1, 'cortinas': 1, 'selectivo': 1, 'ateneo': 1, 'locutor': 1, 'fantasías': 1, 'río': 1, 'sencillo': 1, 'entienden': 1, 'calificaron': 1, 'económicos': 1, 'revalorizar': 1, 'manejo': 1, 'compañero': 1, 'madonna': 1, 'intempestiva': 1, 'podría': 1, 'sostuvieron': 1, 'esté': 1, 'percepción': 1, 'lluvias': 1, 'radical': 1, 'primer': 1, 'determinar': 1, 'desaparezca': 1, 'sentimos': 1, 'requirió': 1, 'cintura': 1, 'generó': 1, 'inventó': 1, 'reuniones': 1, 'discusiones': 1, 'volveremos': 1, 'buen': 1, 'desmonte': 1, 'naturales': 1, 'juniors': 1, 'políticas': 1, 'decíamos': 1, 'personales': 1, 'distintas': 1, 'achica': 1, 'promedio': 1, 'viceversa': 1, 'crecen': 1, 'redacción': 1, 'llevarse': 1, 'accesibles': 1, 'fuerte': 1, 'conversar': 1, 'hombros': 1, 'rodríguez': 1, 'agradecen': 1, 'vino': 1, 'estaría': 1, 'septiembre': 1, 'tomar': 1, 'incertidumbre': 1, 'cerraron': 1, 'bodega': 1, 'mano': 1, 'cambios': 1, 'considerarse': 1, 'mitad': 1, 'relación': 1, 'funes': 1, 'pelea': 1, 'consolide': 1, 'decimos': 1, 'diálogo': 1, 'designación': 1, 'conservado': 1, 'sutil': 1, 'consorcio': 1, 'cuñado': 1, 'mantenerla': 1, 'ejemplo': 1, 'pregunta': 1, 'isabel': 1, 'llenarse': 1, 'haber': 1, 'profesionales': 1, 'realizaron': 1, 'tendido': 1, 'ocurre': 1, 'viviendo': 1, 'lugares': 1, 'tendrá': 1, 'respetan': 1, 'sugerir': 1, 'reforma': 1, 'construcción': 1, 'poblacional': 1, 'esclavos': 1, 'factura': 1, 'miran': 1, 'colateralmente': 1, 'decía': 1, 'enojaba': 1, 'llega': 1, 'comience': 1, 'anterior': 1, 'descanso': 1, 'lagunas': 1, 'centros': 1, 'épocas': 1, 'tratando': 1, 'tuvieron': 1, 'seguridad': 1, 'pare': 1, 'algo': 1, 'francisco': 1, 'menor': 1, 'llevaban': 1, 'ellos': 1, 'quería': 1, 'quede': 1, 'democrático': 1, 'charly': 1, 'requiere': 1, 'época': 1, 'consecuencias': 1, 'otra': 1, 'encargan': 1, 'sociales': 1, 'levantaron': 1, 'estudiantes': 1, 'distintos': 1, 'sea': 1, 'viviendas': 1, 'ingresaron': 1, 'desafíos': 1, 'investigaciones': 1, 'ello': 1, 'albert': 1, 'registros': 1, 'reparación': 1, 'confiesa': 1, 'responde': 1, 'gordita': 1, 'debe': 1, 'obra': 1, 'noble': 1, 'noche': 1, 'responderán': 1, 'estancia': 1, 'coordinador': 1, 'capuchinos': 1, 'entenderse': 1, 'aviones': 1, 'restaurados': 1, 'diciembre': 1, 'requerirá': 1, 'inútil': 1, 'realizará': 1, 'hicieron': 1, 'junto': 1, 'aumentar': 1, 'viven': 1, 'encontraba': 1, 'observador': 1, 'espasmódicamente': 1, 'regularmente': 1, 'compara': 1, 'brinda': 1, 'medidas': 1, 'creen': 1, 'virtudes': 1, 'relevante': 1, 'principio': 1, 'ningún': 1, 'convocatorias': 1, 'gracias': 1, 'juventus': 1, 'remodelación': 1, 'preocupante': 1, 'curva': 1, 'interpretaciones': 1, 'parece': 1, 'vos': 1, 'llamar': 1, 'sostenidos': 1, 'anteproyecto': 1, 'aporta': 1, 'llama': 1, 'jesuita': 1, 'sistema': 1, 'realizó': 1, 'faltar': 1, 'morocha': 1, 'aspectos': 1, 'manera': 1, 'comparados': 1, 'planificación': 1, 'entrada': 1, 'trabajando': 1, 'célebre': 1, 'parte': 1, 'voy': 1, 'tardará': 1, 'posibilidad': 1, 'vieja': 1, 'aseguran': 1, 'tormenta': 1, 'instrucción': 1, 'multiplicó': 1, 'ciencias': 1, 'indicó': 1, 'bajó': 1, 'nuestra': 1, 'adolescencia': 1, 'aparecer': 1, 'ayudar': 1, 'sumaron': 1, 'reiterado': 1, 'actores': 1, 'tono': 1, 'varios': 1, 'hombres': 1, 'partir': 1, 'cumplirán': 1, 'interior': 1, 'sorprende': 1, 'comparar': 1, 'subcoordinadores': 1, 'reclutar': 1, 'base': 1, 'funciona': 1, 'quiero': 1, 'faltan': 1, 'mis': 1, 'disgusta': 1, 'quilino': 1, 'acciones': 1, 'acerca': 1, 'normativa': 1, 'felicidad': 1, 'certera': 1, 'regularidad': 1, 'compañeros': 1, 'levantar': 1, 'llegará': 1, 'iniciaron': 1, 'molina': 1, 'alfredo': 1, 'huerta': 1, 'era': 1, 'promoción': 1, 'nietos': 1, 'crecer': 1, 'cambiando': 1, 'salas': 1, 'desconocimiento': 1, 'conjunta': 1, 'descubriendo': 1, 'recolectarán': 1, 'consume': 1, 'últimos': 1, 'instituciones': 1, 'cecilia': 1, 'comparadas': 1, 'continuidad': 1, 'ubicada': 1, 'lucen': 1, 'censos': 1, 'vas': 1, 'inigualable': 1, 'necesidad': 1, 'final': 1, 'mismo': 1, 'minorías': 1, 'implicó': 1, 'otorgado': 1, 'abril': 1, 'quien': 1, 'reúnen': 1, 'bien': 1, 'rock': 1, 'destrabar': 1, 'mejoró': 1, 'dato': 1, 'casamos': 1, 'envejecimiento': 1, 'separado': 1, 'precisos': 1, 'multiplicaron': 1, 'risas': 1, 'disgustaba': 1, 'subterráneo': 1, 'visitada': 1, 'levantaban': 1, 'poniendo': 1, 'centro': 1, 'superan': 1, 'durar': 1, 'lápidas': 1, 'seis': 1, 'actualmente': 1, 'tanto': 1, 'correctamente': 1, 'mí': 1, 'experiencia': 1, 'reflexiona': 1, 'distinguir': 1, 'ocho': 1, 'comercios': 1, 'indispensable': 1, 'pone': 1, 'mantiene': 1, 'nelso': 1, 'tus': 1, 'manejamos': 1, 'democráticos': 1, 'asados': 1, 'tras': 1, 'necesaria': 1, 'entidades': 1, 'crespo': 1, 'decidieron': 1, 'fábrica': 1, 'minutos': 1, 'planifica': 1, 'paz': 1, 'empresas': 1, 'luchas': 1, 'capilla': 1, 'estiman': 1, 'sol': 1, 'chau': 1, 'excusar': 1, 'trasladó': 1, 'declarado': 1, 'posibilidades': 1, 'defectos': 1, 'implicará': 1, 'ilusiones': 1, 'municipio': 1, 'punilla': 1, 'cariñosa': 1, 'entiende': 1, 'discuta': 1, 'pusieron': 1, 'respetando': 1, 'presbicia': 1, 'abrir': 1, 'medida': 1, 'sostenido': 1, 'modificar': 1, 'postergar': 1, 'productores': 1, 'valoró': 1, 'patético': 1, 'actos': 1, 'salido': 1, 'abraza': 1, 'orgullo': 1, 'empleado': 1, 'virgen': 1, 'todas': 1, 'sorprendidos': 1, 'charla': 1, 'cuelan': 1, 'jesuíticos': 1, 'suerte': 1, 'notoriamente': 1, 'manuel': 1, 'cerrada': 1, 'dejaron': 1, 'carlos': 1, 'infraestructura': 1, 'dolores': 1, 'ponemos': 1, 'llegado': 1, 'lee': 1, 'colaborador': 1, 'engranó': 1, 'encabezan': 1, 'demi': 1, 'pidiendo': 1, 'aumentara': 1, 'nicolás': 1, 'levantarían': 1, 'posiciones': 1, 'sería': 1, 'muestra': 1, 'manos': 1, 'reflexionar': 1, 'instancia': 1, 'permitirá': 1, 'ganas': 1, 'consenso': 1, 'desfallecer': 1, 'apaleado': 1, 'bueno': 1, 'podrán': 1, 'victoria': 1, 'pensando': 1, 'verdaderamente': 1, 'mejorar': 1, 'declaró': 1, 'torno': 1, 'viejo': 1, 'sufren': 1, 'circunda': 1, 'encuentran': 1, 'oficial': 1, 'solares': 1, 'próspero': 1, 'algunas': 1, 'lleguen': 1, 'disfrutar': 1, 'separan': 1, 'mayoría': 1, 'callar': 1, 'barrionuevo': 1, 'proyectos': 1, 'rodea': 1, 'teoría': 1, 'servicial': 1, 'nuevas': 1, 'afirma': 1, 'diferente': 1, 'fuerza': 1, 'confusión': 1, 'ayer': 1, 'quienes': 1, 'café': 1, 'desmontado': 1, 'informatización': 1, 'causas': 1, 'inseguridades': 1, 'beso': 1, 'rosa': 1, 'militar': 1, 'respetado': 1, 'copérnico': 1, 'cornú': 1, 'r': 1, 'feriado': 1, 'negros': 1, 'difíciles': 1, 'ucc': 1, 'discapacidades': 1, 'discusión': 1, 'privado': 1, 'pues': 1, 'superior': 1, 'alimentaron': 1, 'dicen': 1, 'habían': 1, 'volvió': 1, 'posta': 1, 'sierras': 1, 'cosquín': 1, 'debate': 1, 'totoral': 1, 'ríen': 1, 'quiere': 1, 'bella': 1, 'llegar': 1, 'escolar': 1, 'siendo': 1, 'george': 1, 'ayudó': 1, 'gran': 1, 'ayudarse': 1, 'conviene': 1, 'propuesta': 1, 'humidad': 1, 'adolescentes': 1, 'figura': 1, 'mismos': 1, 'anécdotas': 1, 'utilizado': 1, 'estilo': 1, 'denominado': 1, 'impedir': 1, 'clooney': 1, 'construir': 1, 'diversas': 1, 'serie': 1, 'relato': 1, 'optimizados': 1, 'temas': 1, 'capacitaciones': 1, 'salía': 1, 'refacción': 1, 'considerando': 1, 'rodolfo': 1, 'mistol': 1, 'subís': 1, 'proporcionará': 1, 'derecho': 1, 'peleas': 1, 'iniciado': 1, 'perdidamente': 1, 'vinculadas': 1, 'evitar': 1, 'quisieran': 1, 'punto': 1, 'viejos': 1, 'espectáculos': 1, 'san': 1, 'columna': 1, 'sello': 1, 'ayacucho': 1, 'interlocutor': 1, 'fuera': 1, 'dejan': 1, 'terreno': 1, 'seguramente': 1, 'declaradas': 1, 'infundadas': 1, 'forestales': 1, 'ejecución': 1, 'clases': 1, 'generoso': 1, 'conservados': 1, 'definitivamente': 1, 'cuarto': 1, 'roth': 1, 'provinciales': 1, 'precisión': 1, 'sigue': 1, 'nivel': 1, 'inclusión': 1, 'sentirme': 1, 'legitimados': 1, 'íntimas': 1, 'pastillita': 1, 'permanente': 1, 'fracción': 1, 'siento': 1, 'solía': 1, 'teóricos': 1, 'flojas': 1, 'edilicias': 1, 'atenten': 1, 'turismo': 1, 'obstante': 1, 'comienza': 1, 'ramírez': 1, 'postuló': 1, 'dejar': 1, 'empiezan': 1, 'visión': 1, 'rescató': 1, 'será': 1, 'participar': 1, 'firmado': 1, 'tengo': 1, 'jerónimo': 1, 'grado': 1, 'ruta': 1, 'perdemos': 1, 'inversiones': 1, 'debates': 1, 'enamorado': 1, 'acceso': 1, 'responsable': 1, 'corto': 1, 'siglos': 1, 'iban': 1, 'convocamos': 1, 'difícil': 1, 'habíamos': 1, 'administrarlo': 1, 'representantes': 1, 'vengativo': 1, 'frank': 1, 'seducción': 1, 'compartimos': 1, 'presencia': 1, 'pueblos': 1, 'viva': 1, 'públicos': 1, 'formulario': 1, 'ejecutar': 1, 'acercamos': 1, 'atendemos': 1, 'árboles': 1, 'buenos': 1, 'cimientos': 1, 'lunes': 1, 'trata': 1, 'nervioso': 1, 'subraya': 1, 'relatividad': 1, 'mate': 1, 'profundizado': 1, 'motivaciones': 1, 'deslegitimación': 1, 'unido': 1, 'rody': 1, 'cabrera': 1, 'aplicará': 1, 'tomado': 1, 'haya': 1, 'preguntas': 1, 'particularidad': 1, 'realizar': 1, 'unidad': 1, 'desarrolla': 1, 'moore': 1, 'acta': 1, 'ellas': 1, 'extenderán': 1, 'profesora': 1, 'sumarle': 1, 'gustaría': 1, 'propiedad': 1, 'biológico': 1, 'mediante': 1, 'podemos': 1, 'anticipa': 1, 'directores': 1, 'meses': 1, 'información': 1, 'afrodescendientes': 1, 'triunfo': 1, 'caminar': 1, 'inmortales': 1, 'existente': 1, 'belgrano': 1, 'hubo': 1, 'plato': 1, 'especialmente': 1, 'dirección': 1, 'director': 1, 'veteranos': 1, 'necesario': 1, 'depende': 1, 'generar': 1, 'muchachas': 1, 'exhaustos': 1, 'rato': 1, 'todavía': 1, 'marcial': 1, 'suficiente': 1, 'inquietante': 1, 'algarrobo': 1, 'interestudiantil': 1, 'etapa': 1, 'exista': 1, 'departamentos': 1, 'trabajan': 1, 'públicamente': 1, 'recuperó': 1, 'pienso': 1, 'conoció': 1, 'excepcionales': 1, 'público': 1, 'esperar': 1, 'optimista': 1, 'estábamos': 1, 'sean': 1, 'llegás': 1, 'dolor': 1, 'pensado': 1, 'vinculados': 1, 'vista': 1, 'decana': 1, 'quieren': 1, 'suponer': 1, 'visual': 1, 'decir': 1, 'respecto': 1, 'dado': 1, 'advirtieron': 1, 'seas': 1, 'ayudan': 1, 'habitan': 1, 'intereses': 1, 'empieza': 1, 'veterano': 1, 'dios': 1, 'cambiarle': 1, 'carta': 1, 'trabajábamos': 1, 'machado': 1, 'renovación': 1, 'mira': 1, 'ojos': 1, 'secretos': 1, 'afectado': 1, 'obraje': 1, 'recuperado': 1, 'planificar': 1, 'lograr': 1, 'jovencita': 1, 'protesta': 1, 'reacciones': 1, 'recursos': 1, 'presidente': 1, 'recicló': 1, 'dolería': 1, 'existen': 1, 'cantaba': 1, 'educativas': 1, 'descendente': 1, 'pelo': 1, 'culturales': 1, 'agua': 1, 'casaron': 1, 'actual': 1, 'visitas': 1, 'viene': 1, 'declarados': 1, 'algún': 1, 'sabés': 1, 'factor': 1, 'aportes': 1, 'iniciación': 1, 'legado': 1, 'cementerio': 1, 'molestan': 1, 'razón': 1, 'abrimos': 1, 'imaginaron': 1, 'explicó': 1, 'pueblo': 1, 'razones': 1, 'baker': 1, 'cordobeses': 1, 'einstein': 1, 'utilizará': 1, 'creo': 1, 'firmaron': 1, 'seguir': 1, 'pusimos': 1, 'compra': 1, 'tendientes': 1, 'gobierno': 1, 'curricular': 1})\n"
     ]
    }
   ],
   "source": [
    "sents = [sent for sent in doc.sents if len(sent) > 10]\n",
    "\n",
    "words = []\n",
    "words_lemma = []\n",
    "for sent in sents:\n",
    "    for word in sent:\n",
    "        if word.is_alpha:\n",
    "            words.append(word)\n",
    "            words_lemma.append(word.lemma_)\n",
    "            \n",
    "counts = Counter(words_lemma)"
   ]
  },
  {
   "cell_type": "code",
   "execution_count": 7,
   "metadata": {
    "collapsed": true
   },
   "outputs": [],
   "source": [
    "def parse_tags(word):\n",
    "    tags = word.tag_[len(word.pos_) + 2:]\n",
    "    tags = tags.split(\"|\")\n",
    "    return tags"
   ]
  },
  {
   "cell_type": "code",
   "execution_count": 8,
   "metadata": {
    "collapsed": true,
    "scrolled": true
   },
   "outputs": [],
   "source": [
    "lemma_file = open(\"lemmatization-es.txt\", \"r\")\n",
    "lemma_raw = lemma_file.read()\n",
    "lemma = lemma_raw.split(\"\\n\")\n",
    "\n",
    "lemma_dict = {}\n",
    "for pair in lemma:\n",
    "    w = pair.split(\"\\t\")\n",
    "    if len(w) == 2:\n",
    "        lemma_dict[w[1]] = w[0]"
   ]
  },
  {
   "cell_type": "code",
   "execution_count": 9,
   "metadata": {
    "collapsed": true
   },
   "outputs": [],
   "source": [
    "def lemmatize(word):\n",
    "    if word in lemma_dict:\n",
    "        word = lemma_dict[word]\n",
    "    return word"
   ]
  },
  {
   "cell_type": "code",
   "execution_count": 21,
   "metadata": {
    "collapsed": true,
    "scrolled": false
   },
   "outputs": [],
   "source": [
    "# Crear diccionario\n",
    "dicc = {}\n",
    "list_dicc = {}\n",
    "word_id = 0\n",
    "threshold_w = 100\n",
    "threshold_c = 50\n",
    "\n",
    "for word in words:\n",
    "    w = lemmatize(word.lemma_)\n",
    "    if not word.is_alpha or str.isdigit(w) or counts[w] < threshold_w:\n",
    "        continue\n",
    "    if not w in dicc:\n",
    "        features = {}\n",
    "    else:\n",
    "        features = dicc[w]\n",
    "\n",
    "    pos = \"POS__\" + word.pos_\n",
    "    if not pos in features:\n",
    "        features[pos] = 0\n",
    "    features[pos] += 1\n",
    "\n",
    "    dep = \"DEP__\" + word.dep_\n",
    "    if not dep in features:\n",
    "        features[dep] = 0\n",
    "    features[dep] += 1\n",
    "\n",
    "    tags = parse_tags(word)\n",
    "    for tag in tags:\n",
    "        if not tag in features:\n",
    "            features[tag] = 0\n",
    "        features[tag] += 1\n",
    "\n",
    "    if not word.i == 0:\n",
    "        context_izq = doc[word.i - 1]\n",
    "        c_izq = lemmatize(context_izq.lemma_)\n",
    "        if context_izq.is_alpha and counts[c_izq] > threshold_c:\n",
    "            if str.isdigit(c_izq):\n",
    "                c_izq = \"NUM__\"\n",
    "            if not c_izq in contexts:\n",
    "                features[c_izq] = 0\n",
    "            features[c_izq] += 1\n",
    "\n",
    "    if not word.i < len(doc):\n",
    "        context_der = doc[word.i + 1]\n",
    "        c_der = lemmatize(context_der.lemma_)\n",
    "        if context_der.is_alpha and counts[c_der] > threshold_c:\n",
    "            if str.isdigit(c_der):\n",
    "                c_der = \"NUM__\"\n",
    "            if not c_der in features:\n",
    "                features[c_der] = 0\n",
    "            features[c_der] += 1\n",
    "\n",
    "    tripla = \"TRIPLA__\" + w + \"__\" + word.lemma_ + \"__\" + word.dep_ + \"__\" + lemmatize(word.head.lemma_)\n",
    "    if not tripla in features:\n",
    "        features[tripla] = 0\n",
    "    features[tripla] += 1\n",
    "\n",
    "    word_id += 1\n",
    "\n",
    "    dicc[w] = features"
   ]
  },
  {
   "cell_type": "code",
   "execution_count": 16,
   "metadata": {
    "collapsed": true,
    "scrolled": true
   },
   "outputs": [],
   "source": [
    "filename = \"lavoz_dicc.pickle\"\n",
    "fileObj = open(filename, 'wb')\n",
    "pickle.dump(dicc, fileObj)\n",
    "fileObj.close()"
   ]
  },
  {
   "cell_type": "code",
   "execution_count": 18,
   "metadata": {
    "collapsed": true
   },
   "outputs": [],
   "source": [
    "filename = \"lavoz_dicc.pickle\"\n",
    "with open(filename, 'rb') as f:\n",
    "    dicc = pickle.load(f)"
   ]
  },
  {
   "cell_type": "code",
   "execution_count": 20,
   "metadata": {
    "collapsed": true
   },
   "outputs": [],
   "source": [
    "features = []\n",
    "key_words = {}\n",
    "wid = 0\n",
    "for d in dicc:\n",
    "    if len(d) > 0:\n",
    "        key_words[d] = wid\n",
    "        wid += 1\n",
    "        features.append(dicc[d])"
   ]
  },
  {
   "cell_type": "code",
   "execution_count": null,
   "metadata": {
    "collapsed": true
   },
   "outputs": [],
   "source": [
    "filename = \"lavoz_cleandicc.pickle\"\n",
    "fileObj = open(filename, 'wb')\n",
    "pickle.dump(features, fileObj)\n",
    "fileObj.close()\n",
    "\n",
    "filename = \"lavoz_keys.pickle\"\n",
    "fileObj = open(filename, 'wb')\n",
    "pickle.dump(key_words, fileObj)\n",
    "fileObj.close()"
   ]
  },
  {
   "cell_type": "code",
   "execution_count": 31,
   "metadata": {
    "collapsed": true,
    "scrolled": false
   },
   "outputs": [],
   "source": [
    "filename = \"lavoz_cleandicc.pickle\"\n",
    "with open(filename, 'rb') as f:\n",
    "    features = pickle.load(f)\n",
    "    \n",
    "filename = \"lavoz_keys.pickle\"\n",
    "with open(filename, 'rb') as f:\n",
    "    key_words = pickle.load(f)"
   ]
  },
  {
   "cell_type": "code",
   "execution_count": 12,
   "metadata": {
    "collapsed": true
   },
   "outputs": [],
   "source": [
    "from sklearn.feature_extraction import DictVectorizer\n",
    "v = DictVectorizer(sparse=False)\n",
    "matrix = v.fit_transform(features)"
   ]
  },
  {
   "cell_type": "code",
   "execution_count": 13,
   "metadata": {
    "collapsed": true
   },
   "outputs": [],
   "source": [
    "matrix_normed = matrix / matrix.max(axis=0)"
   ]
  },
  {
   "cell_type": "code",
   "execution_count": 25,
   "metadata": {
    "collapsed": true
   },
   "outputs": [],
   "source": [
    "filename = \"lavoz_matrix.pickle\"\n",
    "fileObj = open(filename, 'wb')\n",
    "pickle.dump(matrix_normed, fileObj)\n",
    "fileObj.close()"
   ]
  },
  {
   "cell_type": "code",
   "execution_count": 26,
   "metadata": {
    "collapsed": true
   },
   "outputs": [],
   "source": [
    "filename = \"lavoz_matrix.pickle\"\n",
    "with open(filename, 'rb') as f:\n",
    "    matrix_normed = pickle.load(f)"
   ]
  },
  {
   "cell_type": "code",
   "execution_count": 14,
   "metadata": {
    "collapsed": true,
    "scrolled": false
   },
   "outputs": [],
   "source": [
    "tsne = sklearn.manifold.TSNE(n_components=2, random_state=0)\n",
    "matrix_dicc2d = tsne.fit_transform(matrix_normed)"
   ]
  },
  {
   "cell_type": "code",
   "execution_count": 28,
   "metadata": {
    "collapsed": true
   },
   "outputs": [],
   "source": [
    "filename = \"lavoz_matrix2d.pickle\"\n",
    "fileObj = open(filename, 'wb')\n",
    "pickle.dump(matrix_dicc2d, fileObj)\n",
    "fileObj.close()"
   ]
  },
  {
   "cell_type": "code",
   "execution_count": 25,
   "metadata": {
    "collapsed": true
   },
   "outputs": [],
   "source": [
    "filename = \"lavoz_matrix2d.pickle\"\n",
    "with open(filename, 'rb') as f:\n",
    "    matrix_dicc2d = pickle.load(f)"
   ]
  },
  {
   "cell_type": "code",
   "execution_count": 33,
   "metadata": {
    "collapsed": true
   },
   "outputs": [],
   "source": [
    "pointsspacy = pd.DataFrame(\n",
    "    [\n",
    "        (word, coords[0], coords[1])\n",
    "        for word, coords in [\n",
    "            (word, matrix_dicc2d[key_words[word]])\n",
    "            for word in key_words\n",
    "        ]\n",
    "    ],\n",
    "    columns=[\"word\", \"x\", \"y\"]\n",
    ")"
   ]
  },
  {
   "cell_type": "code",
   "execution_count": 34,
   "metadata": {
    "scrolled": false
   },
   "outputs": [
    {
     "data": {
      "text/plain": [
       "<matplotlib.axes._subplots.AxesSubplot at 0x7fedeb348470>"
      ]
     },
     "execution_count": 34,
     "metadata": {},
     "output_type": "execute_result"
    },
    {
     "data": {
      "image/png": "[encoded data removed]",
      "text/plain": [
       "<matplotlib.figure.Figure at 0x7fede8d6ff60>"
      ]
     },
     "metadata": {},
     "output_type": "display_data"
    }
   ],
   "source": [
    "pointsspacy.plot.scatter(\"x\", \"y\", s=10, figsize=(20, 12))"
   ]
  },
  {
   "cell_type": "code",
   "execution_count": 58,
   "metadata": {
    "collapsed": true
   },
   "outputs": [],
   "source": [
    "def plot_region(x_bounds, y_bounds):\n",
    "    slice = pointsspacy[\n",
    "        (x_bounds[0] <= pointsspacy.x) &\n",
    "        (pointsspacy.x <= x_bounds[1]) & \n",
    "        (y_bounds[0] <= pointsspacy.y) &\n",
    "        (pointsspacy.y <= y_bounds[1])\n",
    "    ]\n",
    "    \n",
    "    ax = slice.plot.scatter(x='x', y='y', s=35, figsize=(10, 8))\n",
    "    for i, point in slice.iterrows():\n",
    "        ax.text(point.x + 0.005, point.y + 0.005, point.word, fontsize=11)"
   ]
  },
  {
   "cell_type": "code",
   "execution_count": 18,
   "metadata": {},
   "outputs": [],
   "source": [
    "#plot_region(x_bounds=(-40, 30), y_bounds=(-40, -20))"
   ]
  },
  {
   "cell_type": "code",
   "execution_count": 63,
   "metadata": {
    "collapsed": true,
    "scrolled": true
   },
   "outputs": [],
   "source": [
    "def clustering(k):\n",
    "    clusterer = kmeans.KMeansClusterer(k, cosine_distance, avoid_empty_clusters=True)\n",
    "    clusters = clusterer.cluster(matrix_normed, True)\n",
    "    return clusters"
   ]
  },
  {
   "cell_type": "code",
   "execution_count": 37,
   "metadata": {
    "collapsed": true
   },
   "outputs": [],
   "source": [
    "c50 =  clustering(50)\n",
    "c100 = clustering(100)\n",
    "c150 = clustering(150)"
   ]
  },
  {
   "cell_type": "code",
   "execution_count": 35,
   "metadata": {
    "collapsed": true
   },
   "outputs": [],
   "source": [
    "filename = \"lavoz_cluster50.pickle\"\n",
    "fileObj = open(filename, 'wb')\n",
    "pickle.dump(c50, fileObj)\n",
    "fileObj.close()"
   ]
  },
  {
   "cell_type": "code",
   "execution_count": 38,
   "metadata": {
    "collapsed": true
   },
   "outputs": [],
   "source": [
    "filename = \"lavoz_cluster100.pickle\"\n",
    "fileObj = open(filename, 'wb')\n",
    "pickle.dump(c100, fileObj)\n",
    "fileObj.close()"
   ]
  },
  {
   "cell_type": "code",
   "execution_count": 40,
   "metadata": {
    "collapsed": true
   },
   "outputs": [],
   "source": [
    "filename = \"lavoz_cluster150.pickle\"\n",
    "fileObj = open(filename, 'wb')\n",
    "pickle.dump(c150, fileObj)\n",
    "fileObj.close()"
   ]
  },
  {
   "cell_type": "code",
   "execution_count": 24,
   "metadata": {
    "collapsed": true
   },
   "outputs": [],
   "source": [
    "filename = \"lavoz_cluster50.pickle\"\n",
    "with open(filename, 'rb') as f:\n",
    "    clusters = pickle.load(f)"
   ]
  },
  {
   "cell_type": "code",
   "execution_count": 64,
   "metadata": {
    "collapsed": true
   },
   "outputs": [],
   "source": [
    "pointscluster = pd.DataFrame(\n",
    "    [\n",
    "        (word, coords[0], coords[1], cluster)\n",
    "        for word, coords, cluster in [\n",
    "            (word, matrix_dicc2d[key_words[word]], clusters[key_words[word]])\n",
    "            for word in key_words\n",
    "        ]\n",
    "    ],\n",
    "    columns=[\"word\", \"x\", \"y\", \"c\"]\n",
    ")"
   ]
  },
  {
   "cell_type": "code",
   "execution_count": 19,
   "metadata": {},
   "outputs": [],
   "source": [
    "pointscluster.plot.scatter(x='x', y='y', c='c', cmap='viridis', s=10, figsize=(20, 12))"
   ]
  },
  {
   "cell_type": "code",
   "execution_count": 66,
   "metadata": {
    "collapsed": true
   },
   "outputs": [],
   "source": [
    "def plot_region_cluster(x_bounds, y_bounds):\n",
    "    slice = pointscluster[\n",
    "        (x_bounds[0] <= pointscluster.x) &\n",
    "        (pointscluster.x <= x_bounds[1]) & \n",
    "        (y_bounds[0] <= pointscluster.y) &\n",
    "        (pointscluster.y <= y_bounds[1])\n",
    "    ]\n",
    "    \n",
    "    ax = slice.plot.scatter(x='x', y='y', c='c', cmap='viridis', s=35, figsize=(10, 8))\n",
    "    for i, point in slice.iterrows():\n",
    "        ax.text(point.x + 0.005, point.y + 0.005, point.word, fontsize=11)"
   ]
  },
  {
   "cell_type": "code",
   "execution_count": 20,
   "metadata": {
    "scrolled": false
   },
   "outputs": [],
   "source": [
    "plot_region_cluster(x_bounds=(-40, 30), y_bounds=(-40, -20))"
   ]
  },
  {
   "cell_type": "code",
   "execution_count": null,
   "metadata": {
    "collapsed": true
   },
   "outputs": [],
   "source": []
  }
 ],
 "metadata": {
  "kernelspec": {
   "display_name": "Python [conda env:keras]",
   "language": "python",
   "name": "conda-env-keras-py"
  }
 },
 "nbformat": 4,
 "nbformat_minor": 2
}
